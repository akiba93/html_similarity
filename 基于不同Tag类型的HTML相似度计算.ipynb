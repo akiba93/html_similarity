{
 "cells": [
  {
   "cell_type": "code",
   "execution_count": 6,
   "id": "69d6bad0",
   "metadata": {},
   "outputs": [],
   "source": [
    "def get_html(url1,url2):\n",
    "    import requests\n",
    "    from bs4 import BeautifulSoup as bs, NavigableString\n",
    "    from urllib.parse import urljoin\n",
    "\n",
    "    # initialize a session & set User-Agent as a regular browser\n",
    "    session = requests.Session()\n",
    "    session.headers[\"User-Agent\"] = \"Mozilla/5.0 (X11; Linux x86_64) AppleWebKit/537.36 (KHTML, like Gecko) Chrome/44.0.2403.157 Safari/537.36\"\n",
    "\n",
    "    # get the HTML content\n",
    "    html1 = session.get(url1).content\n",
    "    html2 = session.get(url2).content\n",
    "\n",
    "    # parse HTML using beautiful soup\n",
    "    soup1 = bs(html1, \"html.parser\")\n",
    "    soup2 = bs(html2, \"html.parser\")\n",
    "    \n",
    "    return soup1,soup2"
   ]
  },
  {
   "cell_type": "code",
   "execution_count": 15,
   "id": "8f94a3ba",
   "metadata": {},
   "outputs": [],
   "source": [
    "def html_similarity(soup1,soup2,weight):\n",
    "    from bs4 import BeautifulSoup as bs, Tag, NavigableString\n",
    "    \n",
    "    #head similarity\n",
    "    head_simi = 0\n",
    "    \n",
    "    html1_head_descendants_list = [i for i in soup1.head.descendants]\n",
    "    html2_head_descendants_list = [i for i in soup2.head.descendants]\n",
    "    head_min_len = min(len(html1_head_descendants_list),len(html2_head_descendants_list))\n",
    "    head_max_len = max(len(html1_head_descendants_list),len(html2_head_descendants_list))\n",
    "    \n",
    "    for i in range(head_min_len):\n",
    "        tag1 = html1_head_descendants_list[i]\n",
    "        tag2 = html2_head_descendants_list[i]\n",
    "        if isinstance(tag1, Tag) and isinstance(tag2, Tag):\n",
    "            head_simi += (0.33*name_similarity(tag1,tag2) + 0.33*attrs_similarity(tag1,tag2,0.5) \n",
    "                          + 0.33 * string_similarity(tag1,tag2))\n",
    "        elif isinstance(tag1, NavigableString) and isinstance(tag2, NavigableString):\n",
    "            head_simi += string_similarity(tag1,tag2)\n",
    "        else:\n",
    "            pass\n",
    "    \n",
    "    head_simi = head_simi / head_max_len\n",
    "    \n",
    "    #body similarity\n",
    "    body_simi = 0\n",
    "    \n",
    "    html1_body_descendants_list = [i for i in soup1.body.descendants]\n",
    "    html2_body_descendants_list = [i for i in soup2.body.descendants]\n",
    "    body_min_len = min(len(html1_body_descendants_list),len(html2_body_descendants_list))\n",
    "    body_max_len = max(len(html1_body_descendants_list),len(html2_body_descendants_list))\n",
    "    \n",
    "    for i in range(body_min_len):\n",
    "        tag1 = html1_body_descendants_list[i]\n",
    "        tag2 = html2_body_descendants_list[i]\n",
    "        if isinstance(tag1, Tag) and isinstance(tag2, Tag):\n",
    "            body_simi += (0.33*name_similarity(tag1,tag2) + 0.33*attrs_similarity(tag1,tag2,0.5) \n",
    "                          + 0.33 * string_similarity(tag1,tag2))\n",
    "        elif isinstance(tag1, NavigableString) and isinstance(tag2, NavigableString):\n",
    "            body_simi += string_similarity(tag1,tag2)\n",
    "        else:\n",
    "            pass\n",
    "    \n",
    "    body_simi = body_simi / body_max_len\n",
    "    \n",
    "    #html_similarity\n",
    "    html_similarity = weight * head_simi + (1 - weight) * body_simi\n",
    "    \n",
    "    return html_similarity"
   ]
  },
  {
   "cell_type": "code",
   "execution_count": 16,
   "id": "f38b7dd6",
   "metadata": {},
   "outputs": [],
   "source": [
    "def name_similarity(tag1,tag2):\n",
    "    if tag1.name == tag2.name:\n",
    "        return 1\n",
    "    else:\n",
    "        return 0"
   ]
  },
  {
   "cell_type": "code",
   "execution_count": 17,
   "id": "f38b0fd8",
   "metadata": {},
   "outputs": [],
   "source": [
    "def jaccard_similarity(list1, list2):\n",
    "    intersection = len(list(set(list1).intersection(list2)))\n",
    "    union = (len(set(list1)) + len(set(list2))) - intersection\n",
    "    return float(intersection) / union\n",
    "\n",
    "def attrs_similarity(tag1,tag2,k):\n",
    "    attrs1 = tag1.attrs\n",
    "    attrs2 = tag2.attrs\n",
    "    \n",
    "    if attrs1 == {} and attrs2 == {}:\n",
    "        return 1\n",
    "    elif attrs1 == {} and attrs2 != {}:\n",
    "        return 0\n",
    "    elif attrs1 != {} and attrs2 == {}:\n",
    "        return 0\n",
    "    else:\n",
    "        #tag1 attrs num:\n",
    "        attrs1_key_set = set(attrs1.keys())\n",
    "        attrs1_num_of_key = len(attrs1_key_set)\n",
    "    \n",
    "        #tag2 attrs num:\n",
    "        attrs2_key_set = set(attrs2.keys())\n",
    "        attrs2_num_of_key = len(attrs2_key_set)\n",
    "    \n",
    "        #shared key\n",
    "        shared_key = attrs1_key_set & attrs2_key_set\n",
    "        num_of_shared_key = len(shared_key)\n",
    "    \n",
    "        #key similarity -- jaccard distance\n",
    "        key_similarity = num_of_shared_key/(attrs1_num_of_key + attrs2_num_of_key - num_of_shared_key)\n",
    "    \n",
    "        #value similarity\n",
    "        value_similarity = 0\n",
    "        for key in shared_key:\n",
    "            attrs1_value = attrs1[key]\n",
    "            attrs2_value = attrs2[key]\n",
    "        \n",
    "            if isinstance(attrs1_value, str) and isinstance(attrs2_value, str):\n",
    "                value_similarity += sentence_transformers_similarity(attrs1_value,attrs2_value)\n",
    "            elif isinstance(attrs1_value, list) and isinstance(attrs2_value, list):\n",
    "                value_similarity += jaccard_similarity(attrs1_value,attrs2_value)\n",
    "            elif type(attrs1_value) != type(attrs2_value):\n",
    "                value_similarity += 0\n",
    "        value_similarity = value_similarity/num_of_shared_key\n",
    "    \n",
    "        return k*key_similarity + (1-k)*value_similarity"
   ]
  },
  {
   "cell_type": "code",
   "execution_count": 18,
   "id": "98e76fa8",
   "metadata": {},
   "outputs": [],
   "source": [
    "# use sentence similarity \n",
    "#https://www.sbert.net/docs/quickstart.html\n",
    "\n",
    "from sentence_transformers import SentenceTransformer, util\n",
    "\n",
    "def sentence_transformers_similarity(string1,string2):\n",
    "    model = SentenceTransformer(\"all-MiniLM-L6-v2\")\n",
    "\n",
    "    # Sentences are encoded by calling model.encode()\n",
    "    emb1 = model.encode(string1)\n",
    "    emb2 = model.encode(string2)\n",
    "    cos_sim = util.cos_sim(emb1, emb2)\n",
    "    return cos_sim.item()\n",
    "\n",
    "def string_similarity(tag1,tag2):\n",
    "    string1 = tag1.string\n",
    "    string2 = tag2.string\n",
    "    if string1 == None and string2 == None:\n",
    "        return 1\n",
    "    elif string1 == None and string2 != None:\n",
    "        return 0\n",
    "    elif string1 != None and string2 == None:\n",
    "        return 0\n",
    "    elif isinstance(string1, str) and isinstance(string2, str):\n",
    "        return sentence_transformers_similarity(string1,string2)"
   ]
  },
  {
   "cell_type": "code",
   "execution_count": 19,
   "id": "4866b90c",
   "metadata": {},
   "outputs": [],
   "source": [
    "# example"
   ]
  },
  {
   "cell_type": "code",
   "execution_count": 21,
   "id": "e22562d7",
   "metadata": {},
   "outputs": [],
   "source": [
    "html1 = \"\"\"\n",
    "<html><head><title>The Dormouse's story</title></head>\n",
    "<body>\n",
    "<p class=\"title\"><b>The Dormouse's story</b></p>\n",
    "\n",
    "<p class=\"story\">Once upon a time there were three little sisters; and their names were\n",
    "<a href=\"http://example.com/elsie\" class=\"sister\" id=\"link1\">Elsie,I have a dream</a>,\n",
    "<a href=\"http://example.com/lacie\" class=\"sister\" id=\"link2\">Lacie</a> and\n",
    "<a href=\"http://example.com/tillie\" class=\"sister\" id=\"link3\">Tillie</a>;\n",
    "and they lived at the bottom of a well.</p>\n",
    "\n",
    "<p class=\"story\">...</p>\n",
    "\"\"\""
   ]
  },
  {
   "cell_type": "code",
   "execution_count": 22,
   "id": "ca4548ae",
   "metadata": {},
   "outputs": [],
   "source": [
    "html2 = \"\"\"\n",
    "<html><head><title>The Dormouse's story</title></head>\n",
    "<body>\n",
    "<p class=\"title\"><b>The Dormouse's story</b></p>\n",
    "\n",
    "<p class=\"story\">Once upon a time there were three little sisters; and their names were\n",
    "<a href=\"http://example.com/elsie\" class=\"sister\" id=\"link1\">Elsie,I have a dream</a>,\n",
    "<p class=\"story\">...</p>\n",
    "\"\"\""
   ]
  },
  {
   "cell_type": "code",
   "execution_count": 23,
   "id": "33787a31",
   "metadata": {},
   "outputs": [
    {
     "name": "stdout",
     "output_type": "stream",
     "text": [
      "0.6326567732512951\n"
     ]
    }
   ],
   "source": [
    "from bs4 import BeautifulSoup as bs\n",
    "soup1 = bs(html1, \"html.parser\")\n",
    "soup2 = bs(html2, \"html.parser\")\n",
    "print(html_similarity(soup1,soup2,0.2))"
   ]
  },
  {
   "cell_type": "code",
   "execution_count": null,
   "id": "838d817a",
   "metadata": {},
   "outputs": [],
   "source": [
    "# main function"
   ]
  },
  {
   "cell_type": "code",
   "execution_count": null,
   "id": "3e8e83e7",
   "metadata": {},
   "outputs": [],
   "source": [
    "url1 = \"https://...\"\n",
    "url2 = \"https://...\"\n",
    "soup1,soup2 = get_html(url1,url2)\n",
    "html_similarity(soup1,soup2,0.5)"
   ]
  }
 ],
 "metadata": {
  "kernelspec": {
   "display_name": "Python 3 (ipykernel)",
   "language": "python",
   "name": "python3"
  },
  "language_info": {
   "codemirror_mode": {
    "name": "ipython",
    "version": 3
   },
   "file_extension": ".py",
   "mimetype": "text/x-python",
   "name": "python",
   "nbconvert_exporter": "python",
   "pygments_lexer": "ipython3",
   "version": "3.11.4"
  }
 },
 "nbformat": 4,
 "nbformat_minor": 5
}
